{
 "cells": [
  {
   "cell_type": "code",
   "execution_count": null,
   "metadata": {},
   "outputs": [],
   "source": [
    "# File name:  data-import-citibike.ipynb"
   ]
  },
  {
   "cell_type": "code",
   "execution_count": null,
   "metadata": {},
   "outputs": [],
   "source": [
    "# ------------------------\n",
    "# Rob Gauer\n",
    "# Citi-Bike\n",
    "# 20-Tableau Homework\n",
    "# Date August 1, 2020\n",
    "# ------------------------\n",
    "#\n",
    "# Data sets import, review, and concatenate into one file. \n",
    "# Write to one csv file located to folder called:  data_output/citi-bike-concatenated-dataset.csv\n",
    "# Data selection chosen for excercise is:  January 2019 to June 2020. i.e. Year 2019 and January to June of 2020.\n",
    "#"
   ]
  },
  {
   "cell_type": "code",
   "execution_count": 1,
   "metadata": {},
   "outputs": [],
   "source": [
    "# Setup and Dependancies\n",
    "import pandas as pd\n",
    "import glob\n",
    "import matplotlib.pyplot as plt\n",
    "import scipy.stats as st\n",
    "import numpy as np\n",
    "import os"
   ]
  },
  {
   "cell_type": "code",
   "execution_count": 2,
   "metadata": {},
   "outputs": [],
   "source": [
    "# Read data all file names and append datasets into one dataframe\n",
    "path =r'C:\\Users\\Rober\\Desktop\\GAUER_Data_Visualization\\github_gauer_homework\\20_Tableau\\datasets'\n",
    "all_files = glob.glob(os.path.join(path, \"*.csv\"))\n",
    "\n",
    "df_from_each_file=(pd.read_csv(f) for f in all_files)\n",
    "concatenated_df = pd.concat(df_from_each_file, ignore_index=True)"
   ]
  },
  {
   "cell_type": "code",
   "execution_count": 31,
   "metadata": {},
   "outputs": [
    {
     "data": {
      "text/plain": [
       "Index(['tripduration', 'starttime', 'stoptime', 'start station id',\n",
       "       'start station name', 'start station latitude',\n",
       "       'start station longitude', 'end station id', 'end station name',\n",
       "       'end station latitude', 'end station longitude', 'bikeid', 'usertype',\n",
       "       'birth year', 'gender'],\n",
       "      dtype='object')"
      ]
     },
     "execution_count": 31,
     "metadata": {},
     "output_type": "execute_result"
    }
   ],
   "source": [
    "# Display the column names.\n",
    "concatenated_df.columns"
   ]
  },
  {
   "cell_type": "code",
   "execution_count": 28,
   "metadata": {},
   "outputs": [
    {
     "data": {
      "text/html": [
       "<div>\n",
       "<style scoped>\n",
       "    .dataframe tbody tr th:only-of-type {\n",
       "        vertical-align: middle;\n",
       "    }\n",
       "\n",
       "    .dataframe tbody tr th {\n",
       "        vertical-align: top;\n",
       "    }\n",
       "\n",
       "    .dataframe thead th {\n",
       "        text-align: right;\n",
       "    }\n",
       "</style>\n",
       "<table border=\"1\" class=\"dataframe\">\n",
       "  <thead>\n",
       "    <tr style=\"text-align: right;\">\n",
       "      <th></th>\n",
       "      <th>tripduration</th>\n",
       "      <th>starttime</th>\n",
       "      <th>stoptime</th>\n",
       "      <th>start station id</th>\n",
       "      <th>start station name</th>\n",
       "      <th>start station latitude</th>\n",
       "      <th>start station longitude</th>\n",
       "      <th>end station id</th>\n",
       "      <th>end station name</th>\n",
       "      <th>end station latitude</th>\n",
       "      <th>end station longitude</th>\n",
       "      <th>bikeid</th>\n",
       "      <th>usertype</th>\n",
       "      <th>birth year</th>\n",
       "      <th>gender</th>\n",
       "    </tr>\n",
       "  </thead>\n",
       "  <tbody>\n",
       "    <tr>\n",
       "      <th>0</th>\n",
       "      <td>201</td>\n",
       "      <td>2019-01-01 03:09:09.7110</td>\n",
       "      <td>2019-01-01 03:12:30.8790</td>\n",
       "      <td>3183</td>\n",
       "      <td>Exchange Place</td>\n",
       "      <td>40.716247</td>\n",
       "      <td>-74.033459</td>\n",
       "      <td>3214</td>\n",
       "      <td>Essex Light Rail</td>\n",
       "      <td>40.712774</td>\n",
       "      <td>-74.036486</td>\n",
       "      <td>29612</td>\n",
       "      <td>Subscriber</td>\n",
       "      <td>1993</td>\n",
       "      <td>1</td>\n",
       "    </tr>\n",
       "    <tr>\n",
       "      <th>1</th>\n",
       "      <td>505</td>\n",
       "      <td>2019-01-01 05:18:00.1060</td>\n",
       "      <td>2019-01-01 05:26:25.9050</td>\n",
       "      <td>3183</td>\n",
       "      <td>Exchange Place</td>\n",
       "      <td>40.716247</td>\n",
       "      <td>-74.033459</td>\n",
       "      <td>3638</td>\n",
       "      <td>Washington St</td>\n",
       "      <td>40.724294</td>\n",
       "      <td>-74.035483</td>\n",
       "      <td>29213</td>\n",
       "      <td>Subscriber</td>\n",
       "      <td>1972</td>\n",
       "      <td>2</td>\n",
       "    </tr>\n",
       "    <tr>\n",
       "      <th>2</th>\n",
       "      <td>756</td>\n",
       "      <td>2019-01-01 10:36:33.3400</td>\n",
       "      <td>2019-01-01 10:49:10.2600</td>\n",
       "      <td>3183</td>\n",
       "      <td>Exchange Place</td>\n",
       "      <td>40.716247</td>\n",
       "      <td>-74.033459</td>\n",
       "      <td>3192</td>\n",
       "      <td>Liberty Light Rail</td>\n",
       "      <td>40.711242</td>\n",
       "      <td>-74.055701</td>\n",
       "      <td>26164</td>\n",
       "      <td>Subscriber</td>\n",
       "      <td>1985</td>\n",
       "      <td>1</td>\n",
       "    </tr>\n",
       "    <tr>\n",
       "      <th>3</th>\n",
       "      <td>1575</td>\n",
       "      <td>2019-01-01 12:43:38.6430</td>\n",
       "      <td>2019-01-01 13:09:54.5280</td>\n",
       "      <td>3183</td>\n",
       "      <td>Exchange Place</td>\n",
       "      <td>40.716247</td>\n",
       "      <td>-74.033459</td>\n",
       "      <td>3638</td>\n",
       "      <td>Washington St</td>\n",
       "      <td>40.724294</td>\n",
       "      <td>-74.035483</td>\n",
       "      <td>29672</td>\n",
       "      <td>Customer</td>\n",
       "      <td>1969</td>\n",
       "      <td>0</td>\n",
       "    </tr>\n",
       "    <tr>\n",
       "      <th>4</th>\n",
       "      <td>1566</td>\n",
       "      <td>2019-01-01 12:43:39.6010</td>\n",
       "      <td>2019-01-01 13:09:46.5100</td>\n",
       "      <td>3183</td>\n",
       "      <td>Exchange Place</td>\n",
       "      <td>40.716247</td>\n",
       "      <td>-74.033459</td>\n",
       "      <td>3638</td>\n",
       "      <td>Washington St</td>\n",
       "      <td>40.724294</td>\n",
       "      <td>-74.035483</td>\n",
       "      <td>29522</td>\n",
       "      <td>Customer</td>\n",
       "      <td>1969</td>\n",
       "      <td>0</td>\n",
       "    </tr>\n",
       "    <tr>\n",
       "      <th>...</th>\n",
       "      <td>...</td>\n",
       "      <td>...</td>\n",
       "      <td>...</td>\n",
       "      <td>...</td>\n",
       "      <td>...</td>\n",
       "      <td>...</td>\n",
       "      <td>...</td>\n",
       "      <td>...</td>\n",
       "      <td>...</td>\n",
       "      <td>...</td>\n",
       "      <td>...</td>\n",
       "      <td>...</td>\n",
       "      <td>...</td>\n",
       "      <td>...</td>\n",
       "      <td>...</td>\n",
       "    </tr>\n",
       "    <tr>\n",
       "      <th>542909</th>\n",
       "      <td>2828</td>\n",
       "      <td>2020-06-30 23:53:19.7380</td>\n",
       "      <td>2020-07-01 00:40:28.5760</td>\n",
       "      <td>3199</td>\n",
       "      <td>Newport Pkwy</td>\n",
       "      <td>40.728745</td>\n",
       "      <td>-74.032108</td>\n",
       "      <td>3199</td>\n",
       "      <td>Newport Pkwy</td>\n",
       "      <td>40.728745</td>\n",
       "      <td>-74.032108</td>\n",
       "      <td>18351</td>\n",
       "      <td>Customer</td>\n",
       "      <td>1969</td>\n",
       "      <td>0</td>\n",
       "    </tr>\n",
       "    <tr>\n",
       "      <th>542910</th>\n",
       "      <td>2729</td>\n",
       "      <td>2020-06-30 23:54:44.0100</td>\n",
       "      <td>2020-07-01 00:40:13.6470</td>\n",
       "      <td>3199</td>\n",
       "      <td>Newport Pkwy</td>\n",
       "      <td>40.728745</td>\n",
       "      <td>-74.032108</td>\n",
       "      <td>3199</td>\n",
       "      <td>Newport Pkwy</td>\n",
       "      <td>40.728745</td>\n",
       "      <td>-74.032108</td>\n",
       "      <td>44401</td>\n",
       "      <td>Customer</td>\n",
       "      <td>1969</td>\n",
       "      <td>0</td>\n",
       "    </tr>\n",
       "    <tr>\n",
       "      <th>542911</th>\n",
       "      <td>2788</td>\n",
       "      <td>2020-06-30 23:54:52.1920</td>\n",
       "      <td>2020-07-01 00:41:20.6500</td>\n",
       "      <td>3199</td>\n",
       "      <td>Newport Pkwy</td>\n",
       "      <td>40.728745</td>\n",
       "      <td>-74.032108</td>\n",
       "      <td>3199</td>\n",
       "      <td>Newport Pkwy</td>\n",
       "      <td>40.728745</td>\n",
       "      <td>-74.032108</td>\n",
       "      <td>42334</td>\n",
       "      <td>Customer</td>\n",
       "      <td>1969</td>\n",
       "      <td>0</td>\n",
       "    </tr>\n",
       "    <tr>\n",
       "      <th>542912</th>\n",
       "      <td>2702</td>\n",
       "      <td>2020-06-30 23:56:14.6650</td>\n",
       "      <td>2020-07-01 00:41:16.7820</td>\n",
       "      <td>3199</td>\n",
       "      <td>Newport Pkwy</td>\n",
       "      <td>40.728745</td>\n",
       "      <td>-74.032108</td>\n",
       "      <td>3199</td>\n",
       "      <td>Newport Pkwy</td>\n",
       "      <td>40.728745</td>\n",
       "      <td>-74.032108</td>\n",
       "      <td>42463</td>\n",
       "      <td>Customer</td>\n",
       "      <td>1969</td>\n",
       "      <td>0</td>\n",
       "    </tr>\n",
       "    <tr>\n",
       "      <th>542913</th>\n",
       "      <td>2649</td>\n",
       "      <td>2020-06-30 23:57:46.1490</td>\n",
       "      <td>2020-07-01 00:41:55.5060</td>\n",
       "      <td>3199</td>\n",
       "      <td>Newport Pkwy</td>\n",
       "      <td>40.728745</td>\n",
       "      <td>-74.032108</td>\n",
       "      <td>3199</td>\n",
       "      <td>Newport Pkwy</td>\n",
       "      <td>40.728745</td>\n",
       "      <td>-74.032108</td>\n",
       "      <td>42468</td>\n",
       "      <td>Customer</td>\n",
       "      <td>1998</td>\n",
       "      <td>2</td>\n",
       "    </tr>\n",
       "  </tbody>\n",
       "</table>\n",
       "<p>542914 rows × 15 columns</p>\n",
       "</div>"
      ],
      "text/plain": [
       "        tripduration                 starttime                  stoptime  \\\n",
       "0                201  2019-01-01 03:09:09.7110  2019-01-01 03:12:30.8790   \n",
       "1                505  2019-01-01 05:18:00.1060  2019-01-01 05:26:25.9050   \n",
       "2                756  2019-01-01 10:36:33.3400  2019-01-01 10:49:10.2600   \n",
       "3               1575  2019-01-01 12:43:38.6430  2019-01-01 13:09:54.5280   \n",
       "4               1566  2019-01-01 12:43:39.6010  2019-01-01 13:09:46.5100   \n",
       "...              ...                       ...                       ...   \n",
       "542909          2828  2020-06-30 23:53:19.7380  2020-07-01 00:40:28.5760   \n",
       "542910          2729  2020-06-30 23:54:44.0100  2020-07-01 00:40:13.6470   \n",
       "542911          2788  2020-06-30 23:54:52.1920  2020-07-01 00:41:20.6500   \n",
       "542912          2702  2020-06-30 23:56:14.6650  2020-07-01 00:41:16.7820   \n",
       "542913          2649  2020-06-30 23:57:46.1490  2020-07-01 00:41:55.5060   \n",
       "\n",
       "        start station id start station name  start station latitude  \\\n",
       "0                   3183     Exchange Place               40.716247   \n",
       "1                   3183     Exchange Place               40.716247   \n",
       "2                   3183     Exchange Place               40.716247   \n",
       "3                   3183     Exchange Place               40.716247   \n",
       "4                   3183     Exchange Place               40.716247   \n",
       "...                  ...                ...                     ...   \n",
       "542909              3199       Newport Pkwy               40.728745   \n",
       "542910              3199       Newport Pkwy               40.728745   \n",
       "542911              3199       Newport Pkwy               40.728745   \n",
       "542912              3199       Newport Pkwy               40.728745   \n",
       "542913              3199       Newport Pkwy               40.728745   \n",
       "\n",
       "        start station longitude  end station id    end station name  \\\n",
       "0                    -74.033459            3214    Essex Light Rail   \n",
       "1                    -74.033459            3638       Washington St   \n",
       "2                    -74.033459            3192  Liberty Light Rail   \n",
       "3                    -74.033459            3638       Washington St   \n",
       "4                    -74.033459            3638       Washington St   \n",
       "...                         ...             ...                 ...   \n",
       "542909               -74.032108            3199        Newport Pkwy   \n",
       "542910               -74.032108            3199        Newport Pkwy   \n",
       "542911               -74.032108            3199        Newport Pkwy   \n",
       "542912               -74.032108            3199        Newport Pkwy   \n",
       "542913               -74.032108            3199        Newport Pkwy   \n",
       "\n",
       "        end station latitude  end station longitude  bikeid    usertype  \\\n",
       "0                  40.712774             -74.036486   29612  Subscriber   \n",
       "1                  40.724294             -74.035483   29213  Subscriber   \n",
       "2                  40.711242             -74.055701   26164  Subscriber   \n",
       "3                  40.724294             -74.035483   29672    Customer   \n",
       "4                  40.724294             -74.035483   29522    Customer   \n",
       "...                      ...                    ...     ...         ...   \n",
       "542909             40.728745             -74.032108   18351    Customer   \n",
       "542910             40.728745             -74.032108   44401    Customer   \n",
       "542911             40.728745             -74.032108   42334    Customer   \n",
       "542912             40.728745             -74.032108   42463    Customer   \n",
       "542913             40.728745             -74.032108   42468    Customer   \n",
       "\n",
       "        birth year  gender  \n",
       "0             1993       1  \n",
       "1             1972       2  \n",
       "2             1985       1  \n",
       "3             1969       0  \n",
       "4             1969       0  \n",
       "...            ...     ...  \n",
       "542909        1969       0  \n",
       "542910        1969       0  \n",
       "542911        1969       0  \n",
       "542912        1969       0  \n",
       "542913        1998       2  \n",
       "\n",
       "[542914 rows x 15 columns]"
      ]
     },
     "execution_count": 28,
     "metadata": {},
     "output_type": "execute_result"
    }
   ],
   "source": [
    "# Display the dataset dataframe of data selection chosen for excercise of all year 2019 and year 2020 January to June.\n",
    "concatenated_df"
   ]
  },
  {
   "cell_type": "code",
   "execution_count": 29,
   "metadata": {},
   "outputs": [
    {
     "data": {
      "text/plain": [
       "tripduration               542914\n",
       "starttime                  542914\n",
       "stoptime                   542914\n",
       "start station id           542914\n",
       "start station name         542914\n",
       "start station latitude     542914\n",
       "start station longitude    542914\n",
       "end station id             542914\n",
       "end station name           542914\n",
       "end station latitude       542914\n",
       "end station longitude      542914\n",
       "bikeid                     542914\n",
       "usertype                   542914\n",
       "birth year                 542914\n",
       "gender                     542914\n",
       "dtype: int64"
      ]
     },
     "execution_count": 29,
     "metadata": {},
     "output_type": "execute_result"
    }
   ],
   "source": [
    "# Review the dataset for clean up needs or record differences to investigate and correct.\n",
    "concatenated_df.count()"
   ]
  },
  {
   "cell_type": "code",
   "execution_count": 30,
   "metadata": {},
   "outputs": [
    {
     "data": {
      "text/html": [
       "<div>\n",
       "<style scoped>\n",
       "    .dataframe tbody tr th:only-of-type {\n",
       "        vertical-align: middle;\n",
       "    }\n",
       "\n",
       "    .dataframe tbody tr th {\n",
       "        vertical-align: top;\n",
       "    }\n",
       "\n",
       "    .dataframe thead th {\n",
       "        text-align: right;\n",
       "    }\n",
       "</style>\n",
       "<table border=\"1\" class=\"dataframe\">\n",
       "  <thead>\n",
       "    <tr style=\"text-align: right;\">\n",
       "      <th></th>\n",
       "      <th>tripduration</th>\n",
       "      <th>start station id</th>\n",
       "      <th>start station latitude</th>\n",
       "      <th>start station longitude</th>\n",
       "      <th>end station id</th>\n",
       "      <th>end station latitude</th>\n",
       "      <th>end station longitude</th>\n",
       "      <th>bikeid</th>\n",
       "      <th>birth year</th>\n",
       "      <th>gender</th>\n",
       "    </tr>\n",
       "  </thead>\n",
       "  <tbody>\n",
       "    <tr>\n",
       "      <th>count</th>\n",
       "      <td>5.429140e+05</td>\n",
       "      <td>542914.000000</td>\n",
       "      <td>542914.000000</td>\n",
       "      <td>542914.000000</td>\n",
       "      <td>542914.000000</td>\n",
       "      <td>542914.000000</td>\n",
       "      <td>542914.000000</td>\n",
       "      <td>542914.000000</td>\n",
       "      <td>542914.000000</td>\n",
       "      <td>542914.000000</td>\n",
       "    </tr>\n",
       "    <tr>\n",
       "      <th>mean</th>\n",
       "      <td>9.405912e+02</td>\n",
       "      <td>3297.362590</td>\n",
       "      <td>40.722609</td>\n",
       "      <td>-74.046462</td>\n",
       "      <td>3295.857051</td>\n",
       "      <td>40.722251</td>\n",
       "      <td>-74.045972</td>\n",
       "      <td>31189.421104</td>\n",
       "      <td>1981.269173</td>\n",
       "      <td>1.151210</td>\n",
       "    </tr>\n",
       "    <tr>\n",
       "      <th>std</th>\n",
       "      <td>1.144516e+04</td>\n",
       "      <td>175.268228</td>\n",
       "      <td>0.007118</td>\n",
       "      <td>0.011112</td>\n",
       "      <td>183.456098</td>\n",
       "      <td>0.007001</td>\n",
       "      <td>0.011078</td>\n",
       "      <td>5750.439740</td>\n",
       "      <td>10.428549</td>\n",
       "      <td>0.541882</td>\n",
       "    </tr>\n",
       "    <tr>\n",
       "      <th>min</th>\n",
       "      <td>6.100000e+01</td>\n",
       "      <td>3183.000000</td>\n",
       "      <td>40.709651</td>\n",
       "      <td>-74.083639</td>\n",
       "      <td>83.000000</td>\n",
       "      <td>40.674181</td>\n",
       "      <td>-74.083639</td>\n",
       "      <td>14531.000000</td>\n",
       "      <td>1887.000000</td>\n",
       "      <td>0.000000</td>\n",
       "    </tr>\n",
       "    <tr>\n",
       "      <th>25%</th>\n",
       "      <td>2.430000e+02</td>\n",
       "      <td>3195.000000</td>\n",
       "      <td>40.718211</td>\n",
       "      <td>-74.050656</td>\n",
       "      <td>3192.000000</td>\n",
       "      <td>40.717733</td>\n",
       "      <td>-74.050389</td>\n",
       "      <td>26431.000000</td>\n",
       "      <td>1974.000000</td>\n",
       "      <td>1.000000</td>\n",
       "    </tr>\n",
       "    <tr>\n",
       "      <th>50%</th>\n",
       "      <td>3.760000e+02</td>\n",
       "      <td>3210.000000</td>\n",
       "      <td>40.721525</td>\n",
       "      <td>-74.043845</td>\n",
       "      <td>3209.000000</td>\n",
       "      <td>40.721124</td>\n",
       "      <td>-74.043117</td>\n",
       "      <td>29474.000000</td>\n",
       "      <td>1984.000000</td>\n",
       "      <td>1.000000</td>\n",
       "    </tr>\n",
       "    <tr>\n",
       "      <th>75%</th>\n",
       "      <td>6.970000e+02</td>\n",
       "      <td>3276.000000</td>\n",
       "      <td>40.727224</td>\n",
       "      <td>-74.038051</td>\n",
       "      <td>3276.000000</td>\n",
       "      <td>40.727224</td>\n",
       "      <td>-74.038051</td>\n",
       "      <td>29654.000000</td>\n",
       "      <td>1989.000000</td>\n",
       "      <td>1.000000</td>\n",
       "    </tr>\n",
       "    <tr>\n",
       "      <th>max</th>\n",
       "      <td>2.566420e+06</td>\n",
       "      <td>3792.000000</td>\n",
       "      <td>40.748716</td>\n",
       "      <td>-74.032108</td>\n",
       "      <td>3992.000000</td>\n",
       "      <td>40.842842</td>\n",
       "      <td>-73.932077</td>\n",
       "      <td>44543.000000</td>\n",
       "      <td>2004.000000</td>\n",
       "      <td>2.000000</td>\n",
       "    </tr>\n",
       "  </tbody>\n",
       "</table>\n",
       "</div>"
      ],
      "text/plain": [
       "       tripduration  start station id  start station latitude  \\\n",
       "count  5.429140e+05     542914.000000           542914.000000   \n",
       "mean   9.405912e+02       3297.362590               40.722609   \n",
       "std    1.144516e+04        175.268228                0.007118   \n",
       "min    6.100000e+01       3183.000000               40.709651   \n",
       "25%    2.430000e+02       3195.000000               40.718211   \n",
       "50%    3.760000e+02       3210.000000               40.721525   \n",
       "75%    6.970000e+02       3276.000000               40.727224   \n",
       "max    2.566420e+06       3792.000000               40.748716   \n",
       "\n",
       "       start station longitude  end station id  end station latitude  \\\n",
       "count            542914.000000   542914.000000         542914.000000   \n",
       "mean                -74.046462     3295.857051             40.722251   \n",
       "std                   0.011112      183.456098              0.007001   \n",
       "min                 -74.083639       83.000000             40.674181   \n",
       "25%                 -74.050656     3192.000000             40.717733   \n",
       "50%                 -74.043845     3209.000000             40.721124   \n",
       "75%                 -74.038051     3276.000000             40.727224   \n",
       "max                 -74.032108     3992.000000             40.842842   \n",
       "\n",
       "       end station longitude         bikeid     birth year         gender  \n",
       "count          542914.000000  542914.000000  542914.000000  542914.000000  \n",
       "mean              -74.045972   31189.421104    1981.269173       1.151210  \n",
       "std                 0.011078    5750.439740      10.428549       0.541882  \n",
       "min               -74.083639   14531.000000    1887.000000       0.000000  \n",
       "25%               -74.050389   26431.000000    1974.000000       1.000000  \n",
       "50%               -74.043117   29474.000000    1984.000000       1.000000  \n",
       "75%               -74.038051   29654.000000    1989.000000       1.000000  \n",
       "max               -73.932077   44543.000000    2004.000000       2.000000  "
      ]
     },
     "execution_count": 30,
     "metadata": {},
     "output_type": "execute_result"
    }
   ],
   "source": [
    "# Statistically describe the dataset.\n",
    "concatenated_df.describe()"
   ]
  },
  {
   "cell_type": "code",
   "execution_count": 6,
   "metadata": {},
   "outputs": [
    {
     "data": {
      "text/plain": [
       "tripduration                 int64\n",
       "starttime                   object\n",
       "stoptime                    object\n",
       "start station id             int64\n",
       "start station name          object\n",
       "start station latitude     float64\n",
       "start station longitude    float64\n",
       "end station id               int64\n",
       "end station name            object\n",
       "end station latitude       float64\n",
       "end station longitude      float64\n",
       "bikeid                       int64\n",
       "usertype                    object\n",
       "birth year                   int64\n",
       "gender                       int64\n",
       "dtype: object"
      ]
     },
     "execution_count": 6,
     "metadata": {},
     "output_type": "execute_result"
    }
   ],
   "source": [
    "# Display data types.\n",
    "concatenated_df.dtypes"
   ]
  },
  {
   "cell_type": "code",
   "execution_count": 7,
   "metadata": {},
   "outputs": [
    {
     "data": {
      "text/plain": [
       "542914"
      ]
     },
     "execution_count": 7,
     "metadata": {},
     "output_type": "execute_result"
    }
   ],
   "source": [
    "# Number of bike trips count total usage. 524914 trips (ridership usage).\n",
    "bikeids_trips_count = concatenated_df[\"bikeid\"].count()\n",
    "bikeids_trips_count"
   ]
  },
  {
   "cell_type": "code",
   "execution_count": 8,
   "metadata": {},
   "outputs": [
    {
     "data": {
      "text/plain": [
       "array([29612, 29213, 26164, ..., 44492, 43489, 37829], dtype=int64)"
      ]
     },
     "execution_count": 8,
     "metadata": {},
     "output_type": "execute_result"
    }
   ],
   "source": [
    "# Bike uiquie ids.\n",
    "bikeids_unique_count = concatenated_df[\"bikeid\"].unique()\n",
    "bikeids_unique_count"
   ]
  },
  {
   "cell_type": "code",
   "execution_count": 26,
   "metadata": {},
   "outputs": [
    {
     "data": {
      "text/plain": [
       "array([3183, 3184, 3185, 3186, 3187, 3191, 3192, 3193, 3194, 3195, 3196,\n",
       "       3198, 3199, 3201, 3202, 3203, 3205, 3206, 3207, 3209, 3210, 3211,\n",
       "       3212, 3213, 3214, 3220, 3225, 3267, 3268, 3269, 3270, 3272, 3273,\n",
       "       3275, 3276, 3277, 3278, 3279, 3280, 3281, 3426, 3481, 3483, 3638,\n",
       "       3639, 3640, 3677, 3678, 3679, 3681, 3694, 3791, 3792], dtype=int64)"
      ]
     },
     "execution_count": 26,
     "metadata": {},
     "output_type": "execute_result"
    }
   ],
   "source": [
    "# Start station ids.\n",
    "start_station_ids_unique = concatenated_df[\"start station id\"].unique()\n",
    "start_station_ids_unique"
   ]
  },
  {
   "cell_type": "code",
   "execution_count": 19,
   "metadata": {},
   "outputs": [
    {
     "data": {
      "text/plain": [
       "array(['Exchange Place', 'Paulus Hook', 'City Hall', 'Grove St PATH',\n",
       "       'Warren St', 'Union St', 'Liberty Light Rail', 'Lincoln Park',\n",
       "       'McGinley Square', 'Sip Ave', 'Riverview Park', 'Heights Elevator',\n",
       "       'Newport Pkwy', 'Dey St', 'Newport PATH', 'Hamilton Park',\n",
       "       'JC Medical Center', 'Hilltop', 'Oakland Ave', 'Brunswick St',\n",
       "       'Pershing Field', 'Newark Ave', 'Christ Hospital',\n",
       "       'Van Vorst Park', 'Essex Light Rail', '5 Corners Library',\n",
       "       'Baldwin at Montgomery', 'Morris Canal', 'Lafayette Park',\n",
       "       'Brunswick & 6th', 'Jersey & 6th St', 'Jersey & 3rd',\n",
       "       'Manila & 1st', 'Columbus Drive', 'Marin Light Rail',\n",
       "       'Communipaw & Berry Lane', 'Monmouth and 6th', 'Dixon Mills',\n",
       "       'Astor Place', 'Leonard Gordon Park', 'JCBS Depot', 'York St',\n",
       "       'Montgomery St', 'Washington St', 'Harborside', 'Journal Square',\n",
       "       'Glenwood Ave', 'Fairmount Ave', 'Bergen Ave', 'Grand St',\n",
       "       'Jackson Square', 'Hoboken Ave at Monmouth St',\n",
       "       'Columbus Dr at Exchange Pl'], dtype=object)"
      ]
     },
     "execution_count": 19,
     "metadata": {},
     "output_type": "execute_result"
    }
   ],
   "source": [
    "# Start station names.\n",
    "start_station_names_unique = concatenated_df[\"start station name\"].unique()\n",
    "start_station_names_unique"
   ]
  },
  {
   "cell_type": "code",
   "execution_count": 20,
   "metadata": {},
   "outputs": [
    {
     "data": {
      "text/plain": [
       "'5 Corners Library'"
      ]
     },
     "execution_count": 20,
     "metadata": {},
     "output_type": "execute_result"
    }
   ],
   "source": [
    "# Least used start station.\n",
    "start_station_names_min = concatenated_df[\"start station name\"].min()\n",
    "start_station_names_min"
   ]
  },
  {
   "cell_type": "code",
   "execution_count": 21,
   "metadata": {},
   "outputs": [
    {
     "data": {
      "text/plain": [
       "'York St'"
      ]
     },
     "execution_count": 21,
     "metadata": {},
     "output_type": "execute_result"
    }
   ],
   "source": [
    "# Most used start station.\n",
    "start_station_names_max = concatenated_df[\"start station name\"].max()\n",
    "start_station_names_max"
   ]
  },
  {
   "cell_type": "code",
   "execution_count": 27,
   "metadata": {},
   "outputs": [
    {
     "data": {
      "text/plain": [
       "array([3214, 3638, 3192, 3205, 3277, 3196, 3202, 3267, 3183, 3681, 3270,\n",
       "       3184, 3185, 3639, 3186, 3207, 3272, 3187, 3273, 3481, 3199, 3276,\n",
       "       3203, 3213, 3269, 3225, 3275, 3278, 3209, 3483, 3212, 3193, 3279,\n",
       "       3211, 3194, 3210, 3195, 3268, 3677, 3679, 3280, 3640, 3694, 3198,\n",
       "       3201, 3206, 3678, 3191, 3220, 3281, 3426, 3709,  514,  523,  513,\n",
       "        459,  327,  224, 3472, 3002,  477,  468, 3170, 3258,  526,  358,\n",
       "       3541,  303,  311, 3168, 3750,  487,  195, 3791,  315,  383,  426,\n",
       "        504,  447,  524, 3360, 3686,  337, 3167, 3664,  217, 3547, 3461,\n",
       "       3792,  505,  484,  279,  304,  285,  456, 3435,  464,  347, 3540,\n",
       "        116,  127, 3674, 3467,  363,  496,  309,  319,  392,  351,  128,\n",
       "        376,  525,  355,  254,  268,  442,  146,  377,  519, 2008, 3256,\n",
       "         83, 3649,  244, 3992, 3623,  476,  480, 3578, 3443,  308, 3629,\n",
       "        489,  534,  143,  173,  518], dtype=int64)"
      ]
     },
     "execution_count": 27,
     "metadata": {},
     "output_type": "execute_result"
    }
   ],
   "source": [
    "# End station ids.\n",
    "end_station_ids_unique = concatenated_df[\"end station id\"].unique()\n",
    "end_station_ids_unique"
   ]
  },
  {
   "cell_type": "code",
   "execution_count": 23,
   "metadata": {},
   "outputs": [
    {
     "data": {
      "text/plain": [
       "array(['Essex Light Rail', 'Washington St', 'Liberty Light Rail',\n",
       "       'JC Medical Center', 'Communipaw & Berry Lane', 'Riverview Park',\n",
       "       'Newport PATH', 'Morris Canal', 'Exchange Place', 'Grand St',\n",
       "       'Jersey & 6th St', 'Paulus Hook', 'City Hall', 'Harborside',\n",
       "       'Grove St PATH', 'Oakland Ave', 'Jersey & 3rd', 'Warren St',\n",
       "       'Manila & 1st', 'York St', 'Newport Pkwy', 'Marin Light Rail',\n",
       "       'Hamilton Park', 'Van Vorst Park', 'Brunswick & 6th',\n",
       "       'Baldwin at Montgomery', 'Columbus Drive', 'Monmouth and 6th',\n",
       "       'Brunswick St', 'Montgomery St', 'Christ Hospital', 'Lincoln Park',\n",
       "       'Dixon Mills', 'Newark Ave', 'McGinley Square', 'Pershing Field',\n",
       "       'Sip Ave', 'Lafayette Park', 'Glenwood Ave', 'Bergen Ave',\n",
       "       'Astor Place', 'Journal Square', 'Jackson Square',\n",
       "       'Heights Elevator', 'Dey St', 'Hilltop', 'Fairmount Ave',\n",
       "       'Union St', '5 Corners Library', 'Leonard Gordon Park',\n",
       "       'JCBS Depot', 'W 15 St & 6 Ave', '12 Ave & W 40 St',\n",
       "       'W 38 St & 8 Ave', 'W 56 St & 10 Ave', 'W 20 St & 11 Ave',\n",
       "       'Vesey Pl & River Terrace', 'Spruce St & Nassau St',\n",
       "       'W 15 St & 10 Ave', 'South End Ave & Liberty St',\n",
       "       'W 41 St & 8 Ave', 'Broadway & W 56 St', 'W 84 St & Columbus Ave',\n",
       "       'W 27 St & 10 Ave', 'E 33 St & 5 Ave',\n",
       "       'Christopher St & Greenwich St', 'Amsterdam Ave & W 125 St',\n",
       "       'Mercer St & Spring St', 'Norfolk St & Broome St',\n",
       "       'Central Park West & W 85 St', 'Forrest Tech Shop (parts testing)',\n",
       "       'E 20 St & FDR Drive', 'Liberty St & Broadway',\n",
       "       'Hoboken Ave at Monmouth St', 'South St & Gouverneur Ln',\n",
       "       'Greenwich Ave & Charles St', 'West St & Chambers St',\n",
       "       '1 Ave & E 16 St', '8 Ave & W 52 St', 'W 43 St & 6 Ave',\n",
       "       'Amsterdam Ave & W 79 St', 'Gansevoort St & Hudson St',\n",
       "       'Old Slip & Front St', 'Amsterdam Ave & W 73 St',\n",
       "       'North Moore St & Greenwich St', 'Old Fulton St',\n",
       "       'Broadway & Moylan Pl', 'Murray St & Greenwich St',\n",
       "       'Columbus Dr at Exchange Pl', '6 Ave & W 33 St', 'W 44 St & 5 Ave',\n",
       "       'Peck Slip & Front St', 'Broadway & Battery Pl',\n",
       "       'Broadway & E 14 St', 'E 53 St & Madison Ave',\n",
       "       'Grand St & Elizabeth St', 'E 56 St & 3 Ave',\n",
       "       'Greenwich St & W Houston St', 'Morningside Ave & W 123 St',\n",
       "       'W 17 St & 8 Ave', 'Barrow St & Hudson St', 'Jay St & York St',\n",
       "       'W Broadway & Spring Street', 'West Thames St', 'E 16 St & 5 Ave',\n",
       "       'Murray St & West St', 'Fulton St & Broadway', 'Jay St & Tech Pl',\n",
       "       'Front St & Maiden Ln', 'MacDougal St & Prince St',\n",
       "       'John St & William St', 'W 34 St & 11 Ave',\n",
       "       'Bayard St & Baxter St', 'W 11 St & 6 Ave',\n",
       "       'Howard St & Centre St', 'W 27 St & 7 Ave', 'Hudson St & Reade St',\n",
       "       '6 Ave & Canal St', 'Pershing Square North',\n",
       "       'Little West St & 1 Pl', 'Pier 40 - Hudson River Park',\n",
       "       'Atlantic Ave & Fort Greene Pl', 'W 129 St & Convent Ave',\n",
       "       'Willoughby Ave & Hall St', 'W 169 St & Fort Washington Ave',\n",
       "       'W 120 St & Claremont Ave', 'E 31 St & 3 Ave', 'W 53 St & 10 Ave',\n",
       "       'Park Pl & Franklin Ave', 'W 52 St & 6 Ave',\n",
       "       'St James Pl & Oliver St', 'Adam Clayton Powell Blvd & W 126 St',\n",
       "       '10 Ave & W 28 St', 'Water - Whitehall Plaza',\n",
       "       'Clinton St & Joralemon St', 'Broadway & W 49 St',\n",
       "       'E 39 St & 2 Ave'], dtype=object)"
      ]
     },
     "execution_count": 23,
     "metadata": {},
     "output_type": "execute_result"
    }
   ],
   "source": [
    "# End station names.\n",
    "end_station_names_unique = concatenated_df[\"end station name\"].unique()\n",
    "end_station_names_unique"
   ]
  },
  {
   "cell_type": "code",
   "execution_count": 24,
   "metadata": {},
   "outputs": [
    {
     "data": {
      "text/plain": [
       "'1 Ave & E 16 St'"
      ]
     },
     "execution_count": 24,
     "metadata": {},
     "output_type": "execute_result"
    }
   ],
   "source": [
    "# Least used destination station.\n",
    "end_station_names_min = concatenated_df[\"end station name\"].min()\n",
    "end_station_names_min"
   ]
  },
  {
   "cell_type": "code",
   "execution_count": 25,
   "metadata": {},
   "outputs": [
    {
     "data": {
      "text/plain": [
       "'York St'"
      ]
     },
     "execution_count": 25,
     "metadata": {},
     "output_type": "execute_result"
    }
   ],
   "source": [
    "# Most used destination station.\n",
    "end_station_names_max = concatenated_df[\"end station name\"].max()\n",
    "end_station_names_max"
   ]
  },
  {
   "cell_type": "code",
   "execution_count": 22,
   "metadata": {},
   "outputs": [
    {
     "data": {
      "text/plain": [
       "array(['Subscriber', 'Customer'], dtype=object)"
      ]
     },
     "execution_count": 22,
     "metadata": {},
     "output_type": "execute_result"
    }
   ],
   "source": [
    "# Usertypes found within the dataset.\n",
    "usertype_unique = concatenated_df[\"usertype\"].unique()\n",
    "usertype_unique"
   ]
  },
  {
   "cell_type": "code",
   "execution_count": 14,
   "metadata": {},
   "outputs": [
    {
     "data": {
      "text/plain": [
       "array([1, 2, 0], dtype=int64)"
      ]
     },
     "execution_count": 14,
     "metadata": {},
     "output_type": "execute_result"
    }
   ],
   "source": [
    "# Genders found within the dataset.\n",
    "gender_unique = concatenated_df[\"gender\"].unique()\n",
    "gender_unique"
   ]
  },
  {
   "cell_type": "code",
   "execution_count": 15,
   "metadata": {},
   "outputs": [
    {
     "data": {
      "text/plain": [
       "array([1993, 1972, 1985, 1969, 1986, 1992, 1994, 1990, 1996, 1987, 1960,\n",
       "       1977, 1966, 1975, 1982, 1984, 1981, 1988, 1971, 1958, 1968, 1976,\n",
       "       1980, 1965, 1979, 1991, 1983, 1989, 1962, 1954, 1974, 1963, 1970,\n",
       "       1978, 1955, 1967, 1941, 1961, 1973, 1997, 1949, 1995, 1957, 1998,\n",
       "       1952, 1953, 1956, 1959, 1888, 1964, 1951, 1999, 2000, 1950, 1944,\n",
       "       2001, 2002, 1947, 1904, 2003, 1918, 1940, 1946, 1889, 1900, 1948,\n",
       "       1887, 1905, 1901, 1945, 1938, 1939, 2004, 1920], dtype=int64)"
      ]
     },
     "execution_count": 15,
     "metadata": {},
     "output_type": "execute_result"
    }
   ],
   "source": [
    "# Dislay all of the riders birth years found within the dataset. \n",
    "# Note within dataset contains the year of 1887, 1888, 1889...\n",
    "birth_year_unique = concatenated_df[\"birth year\"].unique()\n",
    "birth_year_unique"
   ]
  },
  {
   "cell_type": "code",
   "execution_count": 16,
   "metadata": {},
   "outputs": [
    {
     "data": {
      "text/plain": [
       "1981.2691733865768"
      ]
     },
     "execution_count": 16,
     "metadata": {},
     "output_type": "execute_result"
    }
   ],
   "source": [
    "# Dataset average (mean) rider birth year is 1981.\n",
    "birth_year_mean = concatenated_df[\"birth year\"].mean()\n",
    "birth_year_mean"
   ]
  },
  {
   "cell_type": "code",
   "execution_count": 17,
   "metadata": {},
   "outputs": [
    {
     "data": {
      "text/plain": [
       "1887"
      ]
     },
     "execution_count": 17,
     "metadata": {},
     "output_type": "execute_result"
    }
   ],
   "source": [
    "# Dataset minimum rider birth year is 1887. \n",
    "# This is an error in their system. Is this one record? \n",
    "# Or does it call out that birth year data may not be truthful. \n",
    "birth_year_min = concatenated_df[\"birth year\"].min()\n",
    "birth_year_min"
   ]
  },
  {
   "cell_type": "code",
   "execution_count": 18,
   "metadata": {},
   "outputs": [
    {
     "data": {
      "text/plain": [
       "2004"
      ]
     },
     "execution_count": 18,
     "metadata": {},
     "output_type": "execute_result"
    }
   ],
   "source": [
    "# Dataset maximum rider birth year is 2004.\n",
    "birth_year_max = concatenated_df[\"birth year\"].max()\n",
    "birth_year_max"
   ]
  },
  {
   "cell_type": "code",
   "execution_count": 39,
   "metadata": {},
   "outputs": [],
   "source": [
    "#output_file_path=os.path.join(\"..\",\"data_output\", \"citi-bike-concatenated-dataset.csv\")\n",
    "concatenated_df.to_csv('data-output/citi-bike-concatenated-dataset.csv', encoding='utf-8')"
   ]
  },
  {
   "cell_type": "code",
   "execution_count": null,
   "metadata": {},
   "outputs": [],
   "source": [
    "# EOF #"
   ]
  }
 ],
 "metadata": {
  "kernelspec": {
   "display_name": "Python 3",
   "language": "python",
   "name": "python3"
  },
  "language_info": {
   "codemirror_mode": {
    "name": "ipython",
    "version": 3
   },
   "file_extension": ".py",
   "mimetype": "text/x-python",
   "name": "python",
   "nbconvert_exporter": "python",
   "pygments_lexer": "ipython3",
   "version": "3.6.10"
  }
 },
 "nbformat": 4,
 "nbformat_minor": 4
}
